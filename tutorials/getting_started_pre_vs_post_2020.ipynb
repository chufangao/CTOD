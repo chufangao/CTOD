{
 "cells": [
  {
   "cell_type": "markdown",
   "metadata": {},
   "source": [
    "### This is a Tutorial Notebook to get started with CTO as soon as possible, without any frills\n",
    "- We will be attempting to reproduce baseline result:\n",
    "    - Training and testing models on pre 2020 data\n",
    "        - Train, Valid: Trials with completion dates < 2018\n",
    "        - Test: Trials with completion dates > 2018, but < 2020\n",
    "    - Training and testing models on post 2020 data\n",
    "        - Train, Valid: Trials with completion dates < 2020\n",
    "        - Test: Trials with completion dates > 2020\n",
    "- Prequisites:\n",
    "    - pip install all requirements as in the requirements.txt\n",
    "    - Navigate to https://zenodo.org/doi/10.5281/zenodo.11535960 (this link always resolves to the latest version), and download the latest version of CTO! \n",
    "    I downloaded the v0.3 labeling.zip, and placed it in the parent directory.\n",
    "        ```bash\n",
    "        wget https://zenodo.org/records/11608615/files/labeling.zip -P ../\n",
    "        ```"
   ]
  },
  {
   "cell_type": "code",
   "execution_count": 9,
   "metadata": {},
   "outputs": [
    {
     "name": "stdout",
     "output_type": "stream",
     "text": [
      "(27245, 12) (6828, 12) (6151, 12)\n"
     ]
    }
   ],
   "source": [
    "# loading the zipped data\n",
    "import numpy as np\n",
    "import pandas as pd\n",
    "import os\n",
    "import glob\n",
    "import zipfile\n",
    "\n",
    "train_data_mode = 'pre'\n",
    "if train_data_mode == 'pre':\n",
    "    with zipfile.ZipFile('../labeling.zip', 'r') as zip_ref:\n",
    "        # print(zip_ref.namelist())\n",
    "        train_df = pd.read_csv(zip_ref.open('labeling/pre_post_2020/train_pre2020_dp.csv'))\n",
    "        valid_df = pd.read_csv(zip_ref.open('labeling/pre_post_2020/valid_pre2020_dp.csv'))\n",
    "        test_df = pd.read_csv(zip_ref.open('labeling/pre_post_2020/test_pre2020_dp.csv'))\n",
    "elif train_data_mode == 'post':\n",
    "    with zipfile.ZipFile('../labeling.zip', 'r') as zip_ref:\n",
    "        # print(zip_ref.namelist())\n",
    "        train_df = pd.read_csv(zip_ref.open('labeling/pre_post_2020/train_post2020_dp.csv'))\n",
    "        valid_df = pd.read_csv(zip_ref.open('labeling/pre_post_2020/valid_post2020_dp.csv'))\n",
    "        test_df = pd.read_csv(zip_ref.open('labeling/pre_post_2020/test_post2020_dp.csv'))\n",
    "\n",
    "print(train_df.shape, valid_df.shape, test_df.shape)\n",
    "# pre: (27245, 12) (6828, 12) (6151, 12)\n",
    "# post: (32200, 12) (8024, 12) (12525, 12)"
   ]
  },
  {
   "cell_type": "code",
   "execution_count": 10,
   "metadata": {},
   "outputs": [
    {
     "data": {
      "image/png": "[encoded data removed]",
      "text/plain": [
       "<Figure size 640x480 with 1 Axes>"
      ]
     },
     "metadata": {},
     "output_type": "display_data"
    }
   ],
   "source": [
    "import matplotlib.pyplot as plt\n",
    "import seaborn as sns\n",
    "\n",
    "# plot train, valid, and test completion date\n",
    "train_df['completion_date'] = pd.to_datetime(train_df['completion_date'])\n",
    "valid_df['completion_date'] = pd.to_datetime(valid_df['completion_date'])\n",
    "test_df['completion_date'] = pd.to_datetime(test_df['completion_date'])\n",
    "\n",
    "train_df['completion_date'].hist(bins=50, alpha=0.5, label='train')\n",
    "valid_df['completion_date'].hist(bins=50, alpha=0.5, label='valid')\n",
    "test_df['completion_date'].hist(bins=50, alpha=0.5, label='test')\n",
    "plt.legend()\n",
    "plt.title(f'Completion Date Distribution of {train_data_mode}')\n",
    "plt.show()"
   ]
  },
  {
   "cell_type": "code",
   "execution_count": 11,
   "metadata": {},
   "outputs": [],
   "source": [
    "from sklearn.feature_extraction.text import TfidfVectorizer\n",
    "# ============ preprocess by filling NAs and dropping duplocates ============\n",
    "train_df = pd.concat([train_df, valid_df])\n",
    "train_df.fillna('', inplace=True)\n",
    "train_df.drop_duplicates(subset=['nctid'], inplace=True)\n",
    "test_df.fillna('', inplace=True)\n",
    "test_df.drop_duplicates(subset=['nctid'], inplace=True)\n",
    "\n",
    "# ============ set features to phase + diseases + icdcodes + drugs + inclusion / exclusion criteria ============\n",
    "train_df['features'] = train_df['phase'] + ' '  + train_df['diseases'] + ' '  + train_df['icdcodes'] + ' ' + train_df['drugs'] + ' ' + train_df['criteria']\n",
    "test_df['features'] = test_df['phase'] + ' '  + test_df['diseases'] + ' '  + test_df['icdcodes'] + ' ' + test_df['drugs'] + ' ' + test_df['criteria']\n",
    "\n",
    "# featurize the data\n",
    "tfidf = TfidfVectorizer(max_features=2048, stop_words='english')\n",
    "X_train = tfidf.fit_transform(train_df['features'])\n",
    "X_test = tfidf.transform(test_df['features'])"
   ]
  },
  {
   "cell_type": "code",
   "execution_count": 12,
   "metadata": {},
   "outputs": [],
   "source": [
    "# ============ define evalution ============\n",
    "from sklearn.metrics import classification_report, f1_score, average_precision_score, roc_auc_score\n",
    "\n",
    "def bootstrap_eval(y_true, y_pred, y_prob, num_samples=100):\n",
    "    f1s = []\n",
    "    aps = []\n",
    "    rocs = []\n",
    "    for _ in range(num_samples):\n",
    "        indices = np.random.choice(len(y_true), len(y_true), replace=True)\n",
    "        f1s.append(f1_score(y_true[indices], y_pred[indices]))\n",
    "        aps.append(average_precision_score(y_true[indices], y_prob[indices]))\n",
    "        rocs.append(roc_auc_score(y_true[indices], y_prob[indices]))\n",
    "    return np.mean(f1s), np.std(f1s), np.mean(aps), np.std(aps), np.mean(rocs), np.std(rocs)"
   ]
  },
  {
   "cell_type": "code",
   "execution_count": 13,
   "metadata": {},
   "outputs": [
    {
     "name": "stdout",
     "output_type": "stream",
     "text": [
      "Model, Phase, F1, AP, ROC\n",
      "phase 1, svm, 0.744, 0.008, 0.634, 0.014, 0.558, 0.010\n",
      "phase 2, svm, 0.863, 0.005, 0.796, 0.010, 0.573, 0.013\n",
      "phase 3, svm, 0.909, 0.005, 0.862, 0.012, 0.560, 0.020\n",
      "all, svm, 0.844, 0.004, 0.781, 0.008, 0.589, 0.009\n",
      "phase 1, lr, 0.742, 0.009, 0.629, 0.015, 0.551, 0.012\n",
      "phase 2, lr, 0.857, 0.005, 0.798, 0.012, 0.579, 0.013\n",
      "phase 3, lr, 0.907, 0.005, 0.873, 0.011, 0.580, 0.019\n",
      "all, lr, 0.841, 0.004, 0.784, 0.008, 0.592, 0.008\n"
     ]
    }
   ],
   "source": [
    "from sklearn.ensemble import RandomForestClassifier\n",
    "from sklearn.linear_model import LogisticRegression\n",
    "from sklearn.svm import LinearSVC, SVC\n",
    "from sklearn.calibration import CalibratedClassifierCV\n",
    "# from xgboost import XGBClassifier # pip install xgboost\n",
    "from sklearn.neural_network import MLPClassifier\n",
    "\n",
    "print(f'Model, Phase, F1, AP, ROC')\n",
    "# for model_name in ['svm', 'xgboost', 'mlp', 'rf', 'lr', ]:\n",
    "for model_name in ['svm', 'lr']: # use fastest models for testing\n",
    "    if model_name == 'rf':\n",
    "        model = RandomForestClassifier(n_estimators=300, random_state=0, max_depth=10, n_jobs=4)\n",
    "    elif model_name == 'lr':\n",
    "        model = LogisticRegression(max_iter=1000, random_state=0)\n",
    "    elif model_name == 'svm':\n",
    "        model = LinearSVC(dual=\"auto\", max_iter=10000, random_state=0)\n",
    "        model = CalibratedClassifierCV(model) \n",
    "        # model = SVC(kernel='linear', probability=True, random_state=0) # performs worse than the above\n",
    "    elif model_name == 'xgboost':\n",
    "        model = XGBClassifier(n_estimators=300, random_state=0, max_depth=10, n_jobs=4)\n",
    "    elif model_name == 'mlp':\n",
    "        model = MLPClassifier(hidden_layer_sizes=(64, 64), max_iter=2000, random_state=0)\n",
    "    else:\n",
    "        raise ValueError('Unknown model name')\n",
    "\n",
    "    model.fit(X_train, train_df['label'])\n",
    "    test_df['pred'] = model.predict(X_test)\n",
    "    test_df['prob'] = model.predict_proba(X_test)[:, 1]\n",
    "\n",
    "    for phase in ['phase 1', 'phase 2', 'phase 3']:\n",
    "        test_df_subset = test_df[test_df['phase'].str.lower().str.contains(phase)]\n",
    "        f1_mean, f1_std, ap_mean, ap_std, roc_mean, roc_std = bootstrap_eval(test_df_subset['label'].values, test_df_subset['pred'].values, test_df_subset['prob'].values)\n",
    "        print(f\"{phase}, {model_name}, {f1_mean:.3f}, {f1_std:.3f}, {ap_mean:.3f}, {ap_std:.3f}, {roc_mean:.3f}, {roc_std:.3f}\")\n",
    "    # combine all phases\n",
    "    f1_mean, f1_std, ap_mean, ap_std, roc_mean, roc_std = bootstrap_eval(test_df['label'].values, test_df['pred'].values, test_df['prob'].values)\n",
    "    print(f\"all, {model_name}, {f1_mean:.3f}, {f1_std:.3f}, {ap_mean:.3f}, {ap_std:.3f}, {roc_mean:.3f}, {roc_std:.3f}\")"
   ]
  },
  {
   "cell_type": "code",
   "execution_count": 14,
   "metadata": {},
   "outputs": [],
   "source": [
    "# ================== Results: pre 2020 split: training and validation has completion dates < 2018, test has completion dates > 2018 and < 2020 ==================\n",
    "# Model, Phase, F1, AP, ROC\n",
    "# phase 1, svm, 0.744, 0.008, 0.634, 0.014, 0.558, 0.010\n",
    "# phase 2, svm, 0.863, 0.005, 0.796, 0.010, 0.573, 0.013\n",
    "# phase 3, svm, 0.909, 0.005, 0.862, 0.012, 0.560, 0.020\n",
    "# all, svm, 0.844, 0.004, 0.781, 0.008, 0.589, 0.009\n",
    "# phase 1, lr, 0.742, 0.009, 0.629, 0.015, 0.551, 0.012\n",
    "# phase 2, lr, 0.857, 0.005, 0.798, 0.012, 0.579, 0.013\n",
    "# phase 3, lr, 0.907, 0.005, 0.873, 0.011, 0.580, 0.019\n",
    "# all, lr, 0.841, 0.004, 0.784, 0.008, 0.592, 0.008\n",
    "\n",
    "# ================== Results: post 2020 split: training and validation has completion dates < 2020, test has completion dates > 2020 ==================\n",
    "# Model, Phase, F1, AP, ROC\n",
    "# phase 1, svm, 0.665, 0.008, 0.516, 0.012, 0.528, 0.010\n",
    "# phase 2, svm, 0.849, 0.004, 0.780, 0.008, 0.566, 0.008\n",
    "# phase 3, svm, 0.911, 0.004, 0.862, 0.008, 0.561, 0.013\n",
    "# all, svm, 0.826, 0.003, 0.761, 0.005, 0.587, 0.005\n",
    "# phase 1, lr, 0.652, 0.006, 0.509, 0.010, 0.522, 0.009\n",
    "# phase 2, lr, 0.836, 0.004, 0.778, 0.007, 0.567, 0.008\n",
    "# phase 3, lr, 0.905, 0.004, 0.862, 0.008, 0.563, 0.015\n",
    "# all, lr, 0.815, 0.003, 0.759, 0.005, 0.588, 0.006\n"
   ]
  }
 ],
 "metadata": {
  "kernelspec": {
   "display_name": "dp",
   "language": "python",
   "name": "python3"
  },
  "language_info": {
   "codemirror_mode": {
    "name": "ipython",
    "version": 3
   },
   "file_extension": ".py",
   "mimetype": "text/x-python",
   "name": "python",
   "nbconvert_exporter": "python",
   "pygments_lexer": "ipython3",
   "version": "3.11.9"
  }
 },
 "nbformat": 4,
 "nbformat_minor": 2
}
