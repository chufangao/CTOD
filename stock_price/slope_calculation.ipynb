{
  "nbformat": 4,
  "nbformat_minor": 0,
  "metadata": {
    "colab": {
      "provenance": []
    },
    "kernelspec": {
      "name": "python3",
      "display_name": "Python 3"
    },
    "language_info": {
      "name": "python"
    }
  },
  "cells": [
    {
      "cell_type": "code",
      "source": [
        "from google.colab import drive\n",
        "import os\n",
        "\n",
        "drive.mount('/content/drive', force_remount=True)\n",
        "os.chdir('/content/drive/My Drive/Sun_lab')"
      ],
      "metadata": {
        "id": "feexyXPEB2Oc",
        "colab": {
          "base_uri": "https://localhost:8080/"
        },
        "outputId": "68c6f6f8-bc50-4fac-f02f-625762dc4aaf"
      },
      "execution_count": null,
      "outputs": [
        {
          "output_type": "stream",
          "name": "stdout",
          "text": [
            "Mounted at /content/drive\n"
          ]
        }
      ]
    },
    {
      "cell_type": "code",
      "source": [
        "#change to your data path\n",
        "data_path = '/content/drive/My Drive/Sun_lab/extra/Spring2024/stock_price/completed_trials/'\n"
      ],
      "metadata": {
        "id": "4Ys2OMcqB17b"
      },
      "execution_count": null,
      "outputs": []
    },
    {
      "cell_type": "code",
      "source": [
        "#replace with your file name. Columns should be 'name' and 'ticker'.\n",
        "ticker_name_file = '541_tickers_from_top_1000.csv'"
      ],
      "metadata": {
        "id": "0zeA-2HPBBF3"
      },
      "execution_count": null,
      "outputs": []
    },
    {
      "cell_type": "code",
      "source": [
        "import pandas as pd\n",
        "ticker_dict = pd.read_csv(data_path+ticker_name_file, index_col=0)\n",
        "len(ticker_dict)"
      ],
      "metadata": {
        "id": "0dYsHFZ3BBBc",
        "colab": {
          "base_uri": "https://localhost:8080/"
        },
        "outputId": "c515209e-8aca-402e-82f7-755b0c94b3b6"
      },
      "execution_count": null,
      "outputs": [
        {
          "output_type": "execute_result",
          "data": {
            "text/plain": [
              "541"
            ]
          },
          "metadata": {},
          "execution_count": 5
        }
      ]
    },
    {
      "cell_type": "code",
      "source": [
        "#get stock_prices_historical.csv by running tickers_2_history.ipynb first\n",
        "\n",
        "all_data = pd.read_csv(data_path + 'stock_prices_historical.csv', index_col = 0)"
      ],
      "metadata": {
        "id": "tonabUjZA_8e"
      },
      "execution_count": null,
      "outputs": []
    },
    {
      "cell_type": "code",
      "source": [
        "all_data.head()"
      ],
      "metadata": {
        "id": "dJkaguSJa4xX",
        "outputId": "5ea609af-f4a8-4cd9-baf7-4f422ab90777",
        "colab": {
          "base_uri": "https://localhost:8080/",
          "height": 204
        }
      },
      "execution_count": null,
      "outputs": [
        {
          "output_type": "execute_result",
          "data": {
            "text/plain": [
              "                        Date      Open      High       Low     Close  Volume  \\\n",
              "0  1980-03-28 00:00:00-05:00  0.000000  0.148410  0.138056  0.138056  2400.0   \n",
              "1  1980-03-31 00:00:00-05:00  0.138056  0.138056  0.138056  0.138056     0.0   \n",
              "2  1980-04-01 00:00:00-05:00  0.138056  0.138056  0.138056  0.138056     0.0   \n",
              "3  1980-04-02 00:00:00-05:00  0.000000  0.148410  0.138056  0.138056   800.0   \n",
              "4  1980-04-03 00:00:00-05:00  0.138056  0.138056  0.138056  0.138056     0.0   \n",
              "\n",
              "   Dividends  Stock Splits Ticker             name  \n",
              "0        0.0           0.0    GSK  GlaxoSmithKline  \n",
              "1        0.0           0.0    GSK  GlaxoSmithKline  \n",
              "2        0.0           0.0    GSK  GlaxoSmithKline  \n",
              "3        0.0           0.0    GSK  GlaxoSmithKline  \n",
              "4        0.0           0.0    GSK  GlaxoSmithKline  "
            ],
            "text/html": [
              "\n",
              "  <div id=\"df-40b63350-f5c4-45c1-acb8-2faf64eb31d4\" class=\"colab-df-container\">\n",
              "    <div>\n",
              "<style scoped>\n",
              "    .dataframe tbody tr th:only-of-type {\n",
              "        vertical-align: middle;\n",
              "    }\n",
              "\n",
              "    .dataframe tbody tr th {\n",
              "        vertical-align: top;\n",
              "    }\n",
              "\n",
              "    .dataframe thead th {\n",
              "        text-align: right;\n",
              "    }\n",
              "</style>\n",
              "<table border=\"1\" class=\"dataframe\">\n",
              "  <thead>\n",
              "    <tr style=\"text-align: right;\">\n",
              "      <th></th>\n",
              "      <th>Date</th>\n",
              "      <th>Open</th>\n",
              "      <th>High</th>\n",
              "      <th>Low</th>\n",
              "      <th>Close</th>\n",
              "      <th>Volume</th>\n",
              "      <th>Dividends</th>\n",
              "      <th>Stock Splits</th>\n",
              "      <th>Ticker</th>\n",
              "      <th>name</th>\n",
              "    </tr>\n",
              "  </thead>\n",
              "  <tbody>\n",
              "    <tr>\n",
              "      <th>0</th>\n",
              "      <td>1980-03-28 00:00:00-05:00</td>\n",
              "      <td>0.000000</td>\n",
              "      <td>0.148410</td>\n",
              "      <td>0.138056</td>\n",
              "      <td>0.138056</td>\n",
              "      <td>2400.0</td>\n",
              "      <td>0.0</td>\n",
              "      <td>0.0</td>\n",
              "      <td>GSK</td>\n",
              "      <td>GlaxoSmithKline</td>\n",
              "    </tr>\n",
              "    <tr>\n",
              "      <th>1</th>\n",
              "      <td>1980-03-31 00:00:00-05:00</td>\n",
              "      <td>0.138056</td>\n",
              "      <td>0.138056</td>\n",
              "      <td>0.138056</td>\n",
              "      <td>0.138056</td>\n",
              "      <td>0.0</td>\n",
              "      <td>0.0</td>\n",
              "      <td>0.0</td>\n",
              "      <td>GSK</td>\n",
              "      <td>GlaxoSmithKline</td>\n",
              "    </tr>\n",
              "    <tr>\n",
              "      <th>2</th>\n",
              "      <td>1980-04-01 00:00:00-05:00</td>\n",
              "      <td>0.138056</td>\n",
              "      <td>0.138056</td>\n",
              "      <td>0.138056</td>\n",
              "      <td>0.138056</td>\n",
              "      <td>0.0</td>\n",
              "      <td>0.0</td>\n",
              "      <td>0.0</td>\n",
              "      <td>GSK</td>\n",
              "      <td>GlaxoSmithKline</td>\n",
              "    </tr>\n",
              "    <tr>\n",
              "      <th>3</th>\n",
              "      <td>1980-04-02 00:00:00-05:00</td>\n",
              "      <td>0.000000</td>\n",
              "      <td>0.148410</td>\n",
              "      <td>0.138056</td>\n",
              "      <td>0.138056</td>\n",
              "      <td>800.0</td>\n",
              "      <td>0.0</td>\n",
              "      <td>0.0</td>\n",
              "      <td>GSK</td>\n",
              "      <td>GlaxoSmithKline</td>\n",
              "    </tr>\n",
              "    <tr>\n",
              "      <th>4</th>\n",
              "      <td>1980-04-03 00:00:00-05:00</td>\n",
              "      <td>0.138056</td>\n",
              "      <td>0.138056</td>\n",
              "      <td>0.138056</td>\n",
              "      <td>0.138056</td>\n",
              "      <td>0.0</td>\n",
              "      <td>0.0</td>\n",
              "      <td>0.0</td>\n",
              "      <td>GSK</td>\n",
              "      <td>GlaxoSmithKline</td>\n",
              "    </tr>\n",
              "  </tbody>\n",
              "</table>\n",
              "</div>\n",
              "    <div class=\"colab-df-buttons\">\n",
              "\n",
              "  <div class=\"colab-df-container\">\n",
              "    <button class=\"colab-df-convert\" onclick=\"convertToInteractive('df-40b63350-f5c4-45c1-acb8-2faf64eb31d4')\"\n",
              "            title=\"Convert this dataframe to an interactive table.\"\n",
              "            style=\"display:none;\">\n",
              "\n",
              "  <svg xmlns=\"http://www.w3.org/2000/svg\" height=\"24px\" viewBox=\"0 -960 960 960\">\n",
              "    <path d=\"M120-120v-720h720v720H120Zm60-500h600v-160H180v160Zm220 220h160v-160H400v160Zm0 220h160v-160H400v160ZM180-400h160v-160H180v160Zm440 0h160v-160H620v160ZM180-180h160v-160H180v160Zm440 0h160v-160H620v160Z\"/>\n",
              "  </svg>\n",
              "    </button>\n",
              "\n",
              "  <style>\n",
              "    .colab-df-container {\n",
              "      display:flex;\n",
              "      gap: 12px;\n",
              "    }\n",
              "\n",
              "    .colab-df-convert {\n",
              "      background-color: #E8F0FE;\n",
              "      border: none;\n",
              "      border-radius: 50%;\n",
              "      cursor: pointer;\n",
              "      display: none;\n",
              "      fill: #1967D2;\n",
              "      height: 32px;\n",
              "      padding: 0 0 0 0;\n",
              "      width: 32px;\n",
              "    }\n",
              "\n",
              "    .colab-df-convert:hover {\n",
              "      background-color: #E2EBFA;\n",
              "      box-shadow: 0px 1px 2px rgba(60, 64, 67, 0.3), 0px 1px 3px 1px rgba(60, 64, 67, 0.15);\n",
              "      fill: #174EA6;\n",
              "    }\n",
              "\n",
              "    .colab-df-buttons div {\n",
              "      margin-bottom: 4px;\n",
              "    }\n",
              "\n",
              "    [theme=dark] .colab-df-convert {\n",
              "      background-color: #3B4455;\n",
              "      fill: #D2E3FC;\n",
              "    }\n",
              "\n",
              "    [theme=dark] .colab-df-convert:hover {\n",
              "      background-color: #434B5C;\n",
              "      box-shadow: 0px 1px 3px 1px rgba(0, 0, 0, 0.15);\n",
              "      filter: drop-shadow(0px 1px 2px rgba(0, 0, 0, 0.3));\n",
              "      fill: #FFFFFF;\n",
              "    }\n",
              "  </style>\n",
              "\n",
              "    <script>\n",
              "      const buttonEl =\n",
              "        document.querySelector('#df-40b63350-f5c4-45c1-acb8-2faf64eb31d4 button.colab-df-convert');\n",
              "      buttonEl.style.display =\n",
              "        google.colab.kernel.accessAllowed ? 'block' : 'none';\n",
              "\n",
              "      async function convertToInteractive(key) {\n",
              "        const element = document.querySelector('#df-40b63350-f5c4-45c1-acb8-2faf64eb31d4');\n",
              "        const dataTable =\n",
              "          await google.colab.kernel.invokeFunction('convertToInteractive',\n",
              "                                                    [key], {});\n",
              "        if (!dataTable) return;\n",
              "\n",
              "        const docLinkHtml = 'Like what you see? Visit the ' +\n",
              "          '<a target=\"_blank\" href=https://colab.research.google.com/notebooks/data_table.ipynb>data table notebook</a>'\n",
              "          + ' to learn more about interactive tables.';\n",
              "        element.innerHTML = '';\n",
              "        dataTable['output_type'] = 'display_data';\n",
              "        await google.colab.output.renderOutput(dataTable, element);\n",
              "        const docLink = document.createElement('div');\n",
              "        docLink.innerHTML = docLinkHtml;\n",
              "        element.appendChild(docLink);\n",
              "      }\n",
              "    </script>\n",
              "  </div>\n",
              "\n",
              "\n",
              "<div id=\"df-ddf72640-c6e4-4fbc-a9b1-f542614899f0\">\n",
              "  <button class=\"colab-df-quickchart\" onclick=\"quickchart('df-ddf72640-c6e4-4fbc-a9b1-f542614899f0')\"\n",
              "            title=\"Suggest charts\"\n",
              "            style=\"display:none;\">\n",
              "\n",
              "<svg xmlns=\"http://www.w3.org/2000/svg\" height=\"24px\"viewBox=\"0 0 24 24\"\n",
              "     width=\"24px\">\n",
              "    <g>\n",
              "        <path d=\"M19 3H5c-1.1 0-2 .9-2 2v14c0 1.1.9 2 2 2h14c1.1 0 2-.9 2-2V5c0-1.1-.9-2-2-2zM9 17H7v-7h2v7zm4 0h-2V7h2v10zm4 0h-2v-4h2v4z\"/>\n",
              "    </g>\n",
              "</svg>\n",
              "  </button>\n",
              "\n",
              "<style>\n",
              "  .colab-df-quickchart {\n",
              "      --bg-color: #E8F0FE;\n",
              "      --fill-color: #1967D2;\n",
              "      --hover-bg-color: #E2EBFA;\n",
              "      --hover-fill-color: #174EA6;\n",
              "      --disabled-fill-color: #AAA;\n",
              "      --disabled-bg-color: #DDD;\n",
              "  }\n",
              "\n",
              "  [theme=dark] .colab-df-quickchart {\n",
              "      --bg-color: #3B4455;\n",
              "      --fill-color: #D2E3FC;\n",
              "      --hover-bg-color: #434B5C;\n",
              "      --hover-fill-color: #FFFFFF;\n",
              "      --disabled-bg-color: #3B4455;\n",
              "      --disabled-fill-color: #666;\n",
              "  }\n",
              "\n",
              "  .colab-df-quickchart {\n",
              "    background-color: var(--bg-color);\n",
              "    border: none;\n",
              "    border-radius: 50%;\n",
              "    cursor: pointer;\n",
              "    display: none;\n",
              "    fill: var(--fill-color);\n",
              "    height: 32px;\n",
              "    padding: 0;\n",
              "    width: 32px;\n",
              "  }\n",
              "\n",
              "  .colab-df-quickchart:hover {\n",
              "    background-color: var(--hover-bg-color);\n",
              "    box-shadow: 0 1px 2px rgba(60, 64, 67, 0.3), 0 1px 3px 1px rgba(60, 64, 67, 0.15);\n",
              "    fill: var(--button-hover-fill-color);\n",
              "  }\n",
              "\n",
              "  .colab-df-quickchart-complete:disabled,\n",
              "  .colab-df-quickchart-complete:disabled:hover {\n",
              "    background-color: var(--disabled-bg-color);\n",
              "    fill: var(--disabled-fill-color);\n",
              "    box-shadow: none;\n",
              "  }\n",
              "\n",
              "  .colab-df-spinner {\n",
              "    border: 2px solid var(--fill-color);\n",
              "    border-color: transparent;\n",
              "    border-bottom-color: var(--fill-color);\n",
              "    animation:\n",
              "      spin 1s steps(1) infinite;\n",
              "  }\n",
              "\n",
              "  @keyframes spin {\n",
              "    0% {\n",
              "      border-color: transparent;\n",
              "      border-bottom-color: var(--fill-color);\n",
              "      border-left-color: var(--fill-color);\n",
              "    }\n",
              "    20% {\n",
              "      border-color: transparent;\n",
              "      border-left-color: var(--fill-color);\n",
              "      border-top-color: var(--fill-color);\n",
              "    }\n",
              "    30% {\n",
              "      border-color: transparent;\n",
              "      border-left-color: var(--fill-color);\n",
              "      border-top-color: var(--fill-color);\n",
              "      border-right-color: var(--fill-color);\n",
              "    }\n",
              "    40% {\n",
              "      border-color: transparent;\n",
              "      border-right-color: var(--fill-color);\n",
              "      border-top-color: var(--fill-color);\n",
              "    }\n",
              "    60% {\n",
              "      border-color: transparent;\n",
              "      border-right-color: var(--fill-color);\n",
              "    }\n",
              "    80% {\n",
              "      border-color: transparent;\n",
              "      border-right-color: var(--fill-color);\n",
              "      border-bottom-color: var(--fill-color);\n",
              "    }\n",
              "    90% {\n",
              "      border-color: transparent;\n",
              "      border-bottom-color: var(--fill-color);\n",
              "    }\n",
              "  }\n",
              "</style>\n",
              "\n",
              "  <script>\n",
              "    async function quickchart(key) {\n",
              "      const quickchartButtonEl =\n",
              "        document.querySelector('#' + key + ' button');\n",
              "      quickchartButtonEl.disabled = true;  // To prevent multiple clicks.\n",
              "      quickchartButtonEl.classList.add('colab-df-spinner');\n",
              "      try {\n",
              "        const charts = await google.colab.kernel.invokeFunction(\n",
              "            'suggestCharts', [key], {});\n",
              "      } catch (error) {\n",
              "        console.error('Error during call to suggestCharts:', error);\n",
              "      }\n",
              "      quickchartButtonEl.classList.remove('colab-df-spinner');\n",
              "      quickchartButtonEl.classList.add('colab-df-quickchart-complete');\n",
              "    }\n",
              "    (() => {\n",
              "      let quickchartButtonEl =\n",
              "        document.querySelector('#df-ddf72640-c6e4-4fbc-a9b1-f542614899f0 button');\n",
              "      quickchartButtonEl.style.display =\n",
              "        google.colab.kernel.accessAllowed ? 'block' : 'none';\n",
              "    })();\n",
              "  </script>\n",
              "</div>\n",
              "    </div>\n",
              "  </div>\n"
            ],
            "application/vnd.google.colaboratory.intrinsic+json": {
              "type": "dataframe",
              "variable_name": "all_data"
            }
          },
          "metadata": {},
          "execution_count": 7
        }
      ]
    },
    {
      "cell_type": "code",
      "execution_count": null,
      "metadata": {
        "id": "6IaFx3F1Aw6i"
      },
      "outputs": [],
      "source": [
        "#read sponsors data\n",
        "sponsors = pd.read_csv(data_path + 'sponsors_completed_all_phases.csv')\n",
        "\n",
        "#read study data\n",
        "studies = pd.read_csv(data_path + 'studies_completed_all_phases.csv')"
      ]
    },
    {
      "cell_type": "code",
      "source": [
        "#merge\n",
        "sponsors_studies = pd.merge(sponsors, studies, on='nct_id')\n",
        "\n",
        "sponsors_studies.shape"
      ],
      "metadata": {
        "id": "BIcRL1njA6im"
      },
      "execution_count": null,
      "outputs": []
    },
    {
      "cell_type": "code",
      "source": [
        "sponsors_studies = sponsors_studies[sponsors_studies['name'].isin(all_data.name.tolist())]"
      ],
      "metadata": {
        "id": "IGYKhiBtA9ad"
      },
      "execution_count": null,
      "outputs": []
    },
    {
      "cell_type": "code",
      "source": [
        "sponsors_studies['Ticker'] = sponsors_studies['name'].map(ticker_dict)"
      ],
      "metadata": {
        "id": "FN9k6iEdBBlX"
      },
      "execution_count": null,
      "outputs": []
    },
    {
      "cell_type": "code",
      "source": [
        "all_data['Date'] = pd.to_datetime(all_data['Date'], errors='coerce')\n",
        "\n",
        "# Extract only the date part for all rows in the 'Date' column\n",
        "all_data['Date'] = all_data['Date'].apply(lambda x: x.strftime('%Y-%m-%d') if pd.notnull(x) else None)\n",
        "\n",
        "# Display the DataFrame with the modified 'Date' column\n",
        "all_data"
      ],
      "metadata": {
        "id": "4zpdsgy7BE8w"
      },
      "execution_count": null,
      "outputs": []
    },
    {
      "cell_type": "code",
      "source": [
        "def calculate_sma_slope(df, ticker, given_date, window_size, days):\n",
        "    \"\"\"\n",
        "    Calculate the slope of Simple Moving Average (SMA) within a specified number of days from a given date for a given ticker.\n",
        "\n",
        "    Parameters:\n",
        "    - df: DataFrame containing historical stock prices with 'Date', 'Ticker', and 'Close' columns.\n",
        "    - ticker: Ticker symbol of the stock.\n",
        "    - given_date: Date for which to calculate the slope of SMA within the specified window.\n",
        "    - window_size: Number of days for the SMA window.\n",
        "    - days: number of days after the trial completion date\n",
        "\n",
        "    Returns:\n",
        "    - slope: Slope of SMA within the specified window from the given date for the given ticker.\n",
        "    \"\"\"\n",
        "    # Convert given_date to a Timestamp object if it's in string format\n",
        "    if isinstance(given_date, str):\n",
        "        given_date = pd.to_datetime(given_date)\n",
        "\n",
        "    # Filter DataFrame for the given ticker\n",
        "    df_ticker = df[df['Ticker'] == ticker]\n",
        "\n",
        "\n",
        "    if not isinstance(df_ticker['Date'].iloc[0], pd.Timestamp):\n",
        "        df_ticker['Date'] = pd.to_datetime(df_ticker['Date'])\n",
        "\n",
        "    df_ticker = df_ticker.sort_values(by='Date')\n",
        "\n",
        "    selected_dates = df_ticker['Close'][df_ticker['Date'] > given_date]\n",
        "\n",
        "    # Calculate SMA using rolling method only for dates after the given date\n",
        "    sma = selected_dates.rolling(window=window_size, min_periods = 1).mean()\n",
        "\n",
        "\n",
        "    # Calculate the slope of SMA within the specified window after the given date\n",
        "    slope = (sma.iloc[days-1] - sma.iloc[0]) / window_size\n",
        "\n",
        "    return slope\n"
      ],
      "metadata": {
        "id": "Xdm-bnp1BNER"
      },
      "execution_count": null,
      "outputs": []
    },
    {
      "cell_type": "code",
      "source": [
        "#apply on trials to calculate slope\n",
        "sponsors_studies['completion_date'] = pd.to_datetime(sponsors_studies['completion_date'])\n",
        "sponsors_studies['Slope'] = sponsors_studies.apply(lambda row: calculate_sma_slope(all_data[all_data['Ticker'] == row['Ticker']], row['Ticker'], row['completion_date'], 5, 7), axis=1)\n"
      ],
      "metadata": {
        "id": "fuRZH-QBBQtG"
      },
      "execution_count": null,
      "outputs": []
    },
    {
      "cell_type": "code",
      "source": [
        "# Group slopes by their sign (positive or negative)\n",
        "slope_groups = sponsors_studies.groupby(sponsors_studies['Slope'] > 0)\n",
        "\n",
        "# Calculate statistics\n",
        "slope_stats = slope_groups['Slope'].agg(['count', 'mean', 'std', 'min', 'max'])\n",
        "\n",
        "# Plot distribution of positive and negative slopes\n",
        "plt.figure(figsize=(8, 6))\n",
        "slope_groups['Slope'].count().plot(kind='bar', color=['red' if group else 'blue' for group in slope_groups.groups.keys()])\n",
        "plt.xlabel('Slope Sign')\n",
        "plt.ylabel('Count')\n",
        "plt.title('Distribution of Positive and Negative Slopes')\n",
        "plt.xticks(ticks=[0, 1], labels=['Negative', 'Positive'], rotation=0)\n",
        "plt.show()\n",
        "\n",
        "# Print statistics\n",
        "print(\"Statistics of Positive and Negative Slopes:\")\n",
        "print(slope_stats)"
      ],
      "metadata": {
        "id": "MV1F86fuBW2n"
      },
      "execution_count": null,
      "outputs": []
    },
    {
      "cell_type": "code",
      "source": [
        "sponsors_studies.to_csv(data_path+'slope_labels.csv')"
      ],
      "metadata": {
        "id": "fXhp-iztBY9P"
      },
      "execution_count": null,
      "outputs": []
    }
  ]
}