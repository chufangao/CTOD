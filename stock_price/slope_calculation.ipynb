{
  "cells": [
    {
      "cell_type": "code",
      "execution_count": null,
      "metadata": {
        "colab": {
          "base_uri": "https://localhost:8080/"
        },
        "id": "feexyXPEB2Oc",
        "outputId": "68c6f6f8-bc50-4fac-f02f-625762dc4aaf"
      },
      "outputs": [],
      "source": [
        "# import pandas as pd\n",
        "# import yfinance as yf\n",
        "# from tqdm import tqdm\n",
        "# from time import sleep\n",
        "\n",
        "# ticker_dict = pd.read_csv('./tickers.csv')\n",
        "# ticker_dict\n",
        "\n",
        "# historical_dataframes = []\n",
        "\n",
        "# for index, row in tqdm(ticker_dict.iterrows(), total=len(ticker_dict), desc=\"Processing\"):\n",
        "#     company = row['name']\n",
        "#     ticker = row['Ticker']\n",
        "\n",
        "#     stock = yf.Ticker(ticker)\n",
        "\n",
        "#     # Retrieve historical market data\n",
        "#     hist = stock.history(period=\"max\")  # You can adjust the period as needed\n",
        "\n",
        "#     # Add ticker as a new column\n",
        "#     hist['Ticker'] = ticker\n",
        "#     hist['name'] = company\n",
        "    \n",
        "#     print(f\"Retrieved {len(hist)} rows of data for {company} ({ticker})\")\n",
        "#     # Save historical data to list\n",
        "#     historical_dataframes.append(hist)\n",
        "#     sleep(1)  # Be nice to Yahoo Finance API\n",
        "\n",
        "# # Combine all historical dataframes into one\n",
        "# all_data = pd.concat(historical_dataframes)\n",
        "\n",
        "# # Reset index to make it cleaner\n",
        "# all_data.reset_index(inplace=True)\n",
        "# all_data.head()\n",
        "\n",
        "# all_data.to_csv('stock_data.csv.zip', index=False, compression='zip')"
      ]
    },
    {
      "cell_type": "code",
      "execution_count": null,
      "metadata": {
        "id": "4Ys2OMcqB17b"
      },
      "outputs": [],
      "source": [
        "# import pickle\n",
        "# import pandas as pd\n",
        "# import time\n",
        "# from bs4 import BeautifulSoup\n",
        "# import requests\n",
        "# import time\n",
        "# import pandas as pd\n",
        "# from tqdm import tqdm\n",
        "# from selenium import webdriver\n",
        "# from selenium.webdriver.common.keys import Keys\n",
        "# from selenium.webdriver.firefox.options import Options\n",
        "# from io import StringIO\n",
        "# # #read nct_ids.pkl\n",
        "# # with open('nct_ids.pkl', 'rb') as f:\n",
        "# #     nct_ids = pickle.load(f)\n",
        "\n",
        "# studies = pd.read_csv('../CTTI/studies.txt', sep='|')\n",
        "# interventions = pd.read_csv('../CTTI/interventions.txt', sep='|')\n",
        "\n",
        "# interventions = interventions[interventions['intervention_type'].str.lower().isin(['drug', 'biological'])]\n",
        "# studies = studies[studies['nct_id'].isin(interventions['nct_id'])]\n",
        "\n",
        "# studies = studies[~studies['overall_status'].str.lower().isin(['terminated', 'withdrawn', 'suspended', 'withheld', 'no longer available', 'temporarily not available'])]\n",
        "\n",
        "# studies = studies.dropna(subset=['phase'])\n",
        "\n",
        "# chrome_options = Options()\n",
        "# chrome_options.add_argument(\"--headless\") #FOR DEBUG COMMENT OUT SO YOU CAN SEE WHAT YOU'RE DOING\n",
        "# driver = webdriver.Firefox(options=chrome_options)\n",
        "\n",
        "# amendment_counts = []\n",
        "# for i, nct in enumerate(tqdm(studies['nct_id'])):\n",
        "#     try:\n",
        "#         driver.get(f'https://clinicaltrials.gov/study/{nct}?tab=history')\n",
        "#         # driver.page_source # needs to be called before the next line\n",
        "#         time.sleep(1)\n",
        "#         card_content = driver.find_element(\"class name\",\"card-content\").get_attribute('innerHTML')\n",
        "\n",
        "#         versions_df = pd.read_html(StringIO(card_content))[0]\n",
        "#         latest_version = versions_df['Version'].iloc[-2]\n",
        "\n",
        "#         amendment_counts.append([nct, latest_version])\n",
        "#     except Exception as e:\n",
        "#         print(f\"Error for {nct}: {e}\")\n",
        "#     # break    \n",
        "#     # Optional: Introduce a delay between requests\n",
        "#     #time.sleep(1)\n",
        "\n",
        "# # # beautify the output of https://clinicaltrials.gov/study/NCT02840448?tab=history\n",
        "# # import requests\n",
        "# # from bs4 import BeautifulSoup\n",
        "# # response = requests.get('https://clinicaltrials.gov/study/NCT02840448?tab=history')\n",
        "# # bs = BeautifulSoup(response.text, 'html.parser')\n",
        "# # bs\n"
      ]
    },
    {
      "cell_type": "code",
      "execution_count": 31,
      "metadata": {
        "id": "6IaFx3F1Aw6i"
      },
      "outputs": [
        {
          "name": "stderr",
          "output_type": "stream",
          "text": [
            "/tmp/ipykernel_1304388/3471275543.py:9: DtypeWarning: Columns (46,47,48,53,65,68) have mixed types. Specify dtype option on import or set low_memory=False.\n",
            "  studies = pd.read_csv(os.path.join(CTTI_PATH, 'studies.txt'), sep='|')\n"
          ]
        }
      ],
      "source": [
        "#read sponsors data\n",
        "import pandas as pd\n",
        "import os\n",
        "from tqdm import tqdm\n",
        "\n",
        "def calculate_sma_slope(df, ticker, given_date, window_size, days):\n",
        "    \"\"\"\n",
        "    Calculate the slope of Simple Moving Average (SMA) within a specified number of days from a given date for a given ticker.\n",
        "\n",
        "    Parameters:\n",
        "    - df: DataFrame containing historical stock prices with 'Date', 'Ticker', and 'Close' columns.\n",
        "    - ticker: Ticker symbol of the stock.\n",
        "    - given_date: Date for which to calculate the slope of SMA within the specified window.\n",
        "    - window_size: Number of days for the SMA window.\n",
        "    - days: number of days after the trial completion date\n",
        "\n",
        "    Returns:\n",
        "    - slope: Slope of SMA within the specified window from the given date for the given ticker.\n",
        "    \"\"\"\n",
        "    # Convert given_date to a Timestamp object if it's in string format\n",
        "    if isinstance(given_date, str):\n",
        "        given_date = pd.to_datetime(given_date, utc=True)\n",
        "\n",
        "    # Filter DataFrame for the given ticker\n",
        "    df_ticker = df[df['name'] == ticker]\n",
        "\n",
        "    if not isinstance(df_ticker['Date'].iloc[0], pd.Timestamp):\n",
        "        df_ticker['Date'] = pd.to_datetime(df_ticker['Date'], utc=True)\n",
        "\n",
        "    df_ticker = df_ticker.sort_values(by='Date')\n",
        "\n",
        "    selected_dates = df_ticker['Close'][df_ticker['Date'] > given_date]\n",
        "\n",
        "    # Calculate SMA using rolling method only for dates after the given date\n",
        "    sma = selected_dates.rolling(window=window_size, min_periods = 1).mean()\n",
        "\n",
        "    # Calculate the slope of SMA within the specified window after the given date\n",
        "    if len(sma) < days:\n",
        "        return pd.NA\n",
        "    slope = (sma.iloc[days-1] - sma.iloc[0]) / window_size\n",
        "\n",
        "    return slope\n",
        "\n",
        "\n",
        "CTTI_PATH = '../CTTI/'\n",
        "SAVE_STOCKS_PATH = './stock_data.csv.zip'\n",
        "\n",
        "sponsors = pd.read_csv(os.path.join(CTTI_PATH, 'sponsors.txt'), sep='|')\n",
        "studies = pd.read_csv(os.path.join(CTTI_PATH, 'studies.txt'), sep='|')\n",
        "stocks_df = pd.read_csv(SAVE_STOCKS_PATH)\n",
        "\n",
        "stocks_df['Date'] = pd.to_datetime(stocks_df['Date'], utc=True)\n",
        "\n",
        "sponsors['name'] = sponsors['name'].str.lower()\n",
        "stocks_df['name'] = stocks_df['name'].str.lower()\n",
        "\n",
        "sponsors = sponsors[sponsors['name'].isin(set(stocks_df['name']))]\n",
        "sponsors = pd.merge(sponsors, studies[['nct_id', 'completion_date']], on='nct_id', how='inner')\n",
        "sponsors['completion_date'] = pd.to_datetime(sponsors['completion_date'], utc=True)\n",
        "\n",
        "tqdm.pandas()\n",
        "\n",
        "sponsor_stock_dict = dict(list(stocks_df.groupby('name')))\n",
        "sponsors['Slope'] = sponsors.progress_apply(lambda row: calculate_sma_slope(sponsor_stock_dict[row['name']], row['name'], row['completion_date'], 5, 7), axis=1)\n",
        "sponsors.dropna(subset=['Slope'], inplace=True)"
      ]
    },
    {
      "cell_type": "code",
      "execution_count": 82,
      "metadata": {},
      "outputs": [
        {
          "data": {
            "text/plain": [
              "(30873, 7)"
            ]
          },
          "execution_count": 82,
          "metadata": {},
          "output_type": "execute_result"
        }
      ],
      "source": [
        "sponsors.shape\n",
        "# sponsors.to_csv('slope_labels.csv')"
      ]
    },
    {
      "cell_type": "code",
      "execution_count": 84,
      "metadata": {
        "id": "MV1F86fuBW2n"
      },
      "outputs": [],
      "source": [
        "# import matplotlib.pyplot as plt\n",
        "# # Group slopes by their sign (positive or negative)\n",
        "# slope_groups = sponsors.groupby(sponsors['Slope'] > 0)\n",
        "\n",
        "# # Calculate statistics\n",
        "# slope_stats = slope_groups['Slope'].agg(['count', 'mean', 'std', 'min', 'max'])\n",
        "\n",
        "# # Plot distribution of positive and negative slopes\n",
        "# plt.figure(figsize=(8, 6))\n",
        "# slope_groups['Slope'].count().plot(kind='bar', color=['red' if group else 'blue' for group in slope_groups.groups.keys()])\n",
        "# plt.xlabel('Slope Sign')\n",
        "# plt.ylabel('Count')\n",
        "# plt.title('Distribution of Positive and Negative Slopes')\n",
        "# plt.xticks(ticks=[0, 1], labels=['Negative', 'Positive'], rotation=0)\n",
        "# plt.show()\n",
        "\n",
        "# # Print statistics\n",
        "# print(\"Statistics of Positive and Negative Slopes:\")\n",
        "# print(slope_stats)"
      ]
    }
  ],
  "metadata": {
    "colab": {
      "provenance": []
    },
    "kernelspec": {
      "display_name": "Python 3",
      "name": "python3"
    },
    "language_info": {
      "codemirror_mode": {
        "name": "ipython",
        "version": 3
      },
      "file_extension": ".py",
      "mimetype": "text/x-python",
      "name": "python",
      "nbconvert_exporter": "python",
      "pygments_lexer": "ipython3",
      "version": "3.13.0"
    }
  },
  "nbformat": 4,
  "nbformat_minor": 0
}
